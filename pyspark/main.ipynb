{
 "cells": [
  {
   "cell_type": "code",
   "execution_count": 22,
   "metadata": {},
   "outputs": [],
   "source": [
    "from pyspark.sql import SparkSession\n",
    "from pyspark.sql.functions import col, lit, when, desc, asc  # Common imports"
   ]
  },
  {
   "cell_type": "markdown",
   "metadata": {},
   "source": [
    "## init"
   ]
  },
  {
   "cell_type": "code",
   "execution_count": 2,
   "metadata": {},
   "outputs": [],
   "source": [
    "spark = SparkSession.\\\n",
    "    builder.\\\n",
    "    appName(\"sparksql\").\\\n",
    "    getOrCreate()"
   ]
  },
  {
   "cell_type": "code",
   "execution_count": 3,
   "metadata": {},
   "outputs": [
    {
     "name": "stdout",
     "output_type": "stream",
     "text": [
      "3.5.5\n"
     ]
    }
   ],
   "source": [
    "print(spark.version)"
   ]
  },
  {
   "cell_type": "code",
   "execution_count": 4,
   "metadata": {},
   "outputs": [],
   "source": [
    "data = spark.read.format(\"csv\").\\\n",
    "    option(\"inferSchema\", \"true\").\\\n",
    "    option(\"header\", \"true\").\\\n",
    "    option(\"path\", \"operations_management.csv\").\\\n",
    "    load()"
   ]
  },
  {
   "cell_type": "code",
   "execution_count": 5,
   "metadata": {},
   "outputs": [
    {
     "data": {
      "text/plain": [
       "DataFrame[description: string, industry: string, level: int, size: string, line_code: string, value: int]"
      ]
     },
     "execution_count": 5,
     "metadata": {},
     "output_type": "execute_result"
    }
   ],
   "source": [
    "data"
   ]
  },
  {
   "cell_type": "code",
   "execution_count": 6,
   "metadata": {},
   "outputs": [
    {
     "name": "stdout",
     "output_type": "stream",
     "text": [
      "root\n",
      " |-- description: string (nullable = true)\n",
      " |-- industry: string (nullable = true)\n",
      " |-- level: integer (nullable = true)\n",
      " |-- size: string (nullable = true)\n",
      " |-- line_code: string (nullable = true)\n",
      " |-- value: integer (nullable = true)\n",
      "\n"
     ]
    }
   ],
   "source": [
    "data.printSchema()"
   ]
  },
  {
   "cell_type": "code",
   "execution_count": 8,
   "metadata": {},
   "outputs": [
    {
     "name": "stdout",
     "output_type": "stream",
     "text": [
      "+--------------------+-----+\n",
      "|            industry|value|\n",
      "+--------------------+-----+\n",
      "|               total|13080|\n",
      "|               total| 3348|\n",
      "|               total| 1089|\n",
      "|               total| 1023|\n",
      "|Agriculture, fore...| 2364|\n",
      "|         Agriculture| 1683|\n",
      "|  Commercial fishing|   27|\n",
      "|  Forestry & logging|  126|\n",
      "|Agriculture, fore...|  528|\n",
      "|              Mining|   72|\n",
      "|       Manufacturing| 1971|\n",
      "|Food, beverage, &...|  588|\n",
      "|Textile, clothing...|   96|\n",
      "|Wood & paper product|  156|\n",
      "|Printing, publish...|   72|\n",
      "|Petroleum, coal, ...|  189|\n",
      "|Non-metallic mine...|  108|\n",
      "|       Metal product|  246|\n",
      "|Transport and ind...|  285|\n",
      "|Other machinery &...|  117|\n",
      "+--------------------+-----+\n",
      "only showing top 20 rows\n",
      "\n"
     ]
    }
   ],
   "source": [
    "data.select(\"industry\",\"value\").show()"
   ]
  },
  {
   "cell_type": "code",
   "execution_count": 19,
   "metadata": {},
   "outputs": [
    {
     "name": "stdout",
     "output_type": "stream",
     "text": [
      "+--------+-----+\n",
      "|industry|value|\n",
      "+--------+-----+\n",
      "|   total|13080|\n",
      "|   total|18540|\n",
      "|   total|15810|\n",
      "|   total|21417|\n",
      "|   total|13008|\n",
      "|   total|19209|\n",
      "|   total|26010|\n",
      "|   total|10155|\n",
      "|   total|10155|\n",
      "|   total|13848|\n",
      "|   total|18624|\n",
      "|   total|25977|\n",
      "|   total|15033|\n",
      "|   total|20955|\n",
      "|   total|11211|\n",
      "|   total|11466|\n",
      "|   total|11874|\n",
      "|   total|12498|\n",
      "|   total|12918|\n",
      "|   total|11661|\n",
      "+--------+-----+\n",
      "only showing top 20 rows\n",
      "\n"
     ]
    }
   ],
   "source": [
    "data.select(\"industry\",\"value\").\\\n",
    "filter(col(\"value\") > 9999).\\\n",
    "show()"
   ]
  },
  {
   "cell_type": "code",
   "execution_count": 23,
   "metadata": {},
   "outputs": [
    {
     "name": "stdout",
     "output_type": "stream",
     "text": [
      "+--------+-----+\n",
      "|industry|value|\n",
      "+--------+-----+\n",
      "|   total|10077|\n",
      "|   total|10119|\n",
      "|   total|10149|\n",
      "|   total|10155|\n",
      "|   total|10155|\n",
      "|   total|10161|\n",
      "|   total|10200|\n",
      "|   total|10218|\n",
      "|   total|10236|\n",
      "|   total|10317|\n",
      "|   total|10380|\n",
      "|   total|10446|\n",
      "|   total|10458|\n",
      "|   total|10497|\n",
      "|   total|10503|\n",
      "|   total|10548|\n",
      "|   total|10638|\n",
      "|   total|10692|\n",
      "|   total|10761|\n",
      "|   total|10767|\n",
      "+--------+-----+\n",
      "only showing top 20 rows\n",
      "\n"
     ]
    }
   ],
   "source": [
    "data.select(\"industry\",\"value\").\\\n",
    "filter(col(\"value\") > 9999).\\\n",
    "orderBy(asc(\"value\")).\\\n",
    "show()"
   ]
  },
  {
   "cell_type": "code",
   "execution_count": 25,
   "metadata": {},
   "outputs": [
    {
     "name": "stdout",
     "output_type": "stream",
     "text": [
      "+--------+-----+\n",
      "|industry|value|\n",
      "+--------+-----+\n",
      "|   total|10077|\n",
      "|   total|10119|\n",
      "|   total|10149|\n",
      "|   total|10155|\n",
      "|   total|10155|\n",
      "|   total|10161|\n",
      "|   total|10200|\n",
      "|   total|10218|\n",
      "|   total|10236|\n",
      "|   total|10317|\n",
      "|   total|10380|\n",
      "|   total|10446|\n",
      "|   total|10458|\n",
      "|   total|10497|\n",
      "|   total|10503|\n",
      "|   total|10548|\n",
      "|   total|10638|\n",
      "|   total|10692|\n",
      "|   total|10761|\n",
      "|   total|10767|\n",
      "+--------+-----+\n",
      "only showing top 20 rows\n",
      "\n"
     ]
    }
   ],
   "source": [
    "# without importing\n",
    "data.select(\"industry\",\"value\").\\\n",
    "filter(data[\"value\"] > 9999).\\\n",
    "orderBy(asc(\"value\")).\\\n",
    "show()"
   ]
  },
  {
   "cell_type": "code",
   "execution_count": 26,
   "metadata": {},
   "outputs": [
    {
     "name": "stdout",
     "output_type": "stream",
     "text": [
      "+--------+-----+\n",
      "|industry|value|\n",
      "+--------+-----+\n",
      "|   total|10077|\n",
      "|   total|10119|\n",
      "|   total|10149|\n",
      "+--------+-----+\n",
      "only showing top 3 rows\n",
      "\n"
     ]
    }
   ],
   "source": [
    "data.select(\"industry\",\"value\").\\\n",
    "filter(data[\"value\"] > 9999).\\\n",
    "orderBy(asc(\"value\")).\\\n",
    "show(3)"
   ]
  },
  {
   "cell_type": "code",
   "execution_count": 38,
   "metadata": {},
   "outputs": [],
   "source": [
    "data_2 = data.select(\"industry\",\"value\").\\\n",
    "filter(data[\"value\"] > 9999).\\\n",
    "orderBy(asc(\"value\"))"
   ]
  },
  {
   "cell_type": "code",
   "execution_count": 29,
   "metadata": {},
   "outputs": [
    {
     "name": "stdout",
     "output_type": "stream",
     "text": [
      "root\n",
      " |-- industry: string (nullable = true)\n",
      " |-- value: integer (nullable = true)\n",
      "\n"
     ]
    }
   ],
   "source": [
    "data_2.printSchema()"
   ]
  },
  {
   "cell_type": "code",
   "execution_count": 31,
   "metadata": {},
   "outputs": [
    {
     "name": "stdout",
     "output_type": "stream",
     "text": [
      "+--------+-----+\n",
      "|industry|value|\n",
      "+--------+-----+\n",
      "|   total|10077|\n",
      "|   total|10119|\n",
      "|   total|10149|\n",
      "|   total|10155|\n",
      "|   total|10155|\n",
      "|   total|10161|\n",
      "|   total|10200|\n",
      "|   total|10218|\n",
      "|   total|10236|\n",
      "|   total|10317|\n",
      "|   total|10380|\n",
      "|   total|10446|\n",
      "|   total|10458|\n",
      "|   total|10497|\n",
      "|   total|10503|\n",
      "|   total|10548|\n",
      "|   total|10638|\n",
      "|   total|10692|\n",
      "|   total|10761|\n",
      "|   total|10767|\n",
      "+--------+-----+\n",
      "only showing top 20 rows\n",
      "\n"
     ]
    }
   ],
   "source": [
    "data_2.show()"
   ]
  },
  {
   "cell_type": "code",
   "execution_count": 39,
   "metadata": {},
   "outputs": [],
   "source": [
    "data_2 = data.select(\"industry\",\"value\").\\\n",
    "filter((data[\"value\"] > 99) & (data[\"industry\"] != \"total\")).\\\n",
    "orderBy(asc(\"value\"))"
   ]
  },
  {
   "cell_type": "code",
   "execution_count": 40,
   "metadata": {},
   "outputs": [
    {
     "name": "stdout",
     "output_type": "stream",
     "text": [
      "+--------------------+-----+\n",
      "|            industry|value|\n",
      "+--------------------+-----+\n",
      "|Education & training|  102|\n",
      "| Other manufacturing|  102|\n",
      "|Printing, publish...|  102|\n",
      "+--------------------+-----+\n",
      "only showing top 3 rows\n",
      "\n"
     ]
    }
   ],
   "source": [
    "data_2.show(3)"
   ]
  },
  {
   "cell_type": "markdown",
   "metadata": {},
   "source": [
    "### using sql"
   ]
  },
  {
   "cell_type": "code",
   "execution_count": 41,
   "metadata": {},
   "outputs": [],
   "source": [
    "data_2.createOrReplaceTempView(\"data\")"
   ]
  },
  {
   "cell_type": "code",
   "execution_count": 43,
   "metadata": {},
   "outputs": [
    {
     "name": "stdout",
     "output_type": "stream",
     "text": [
      "+--------------------+-----+\n",
      "|            industry|value|\n",
      "+--------------------+-----+\n",
      "|Education & training|  102|\n",
      "| Other manufacturing|  102|\n",
      "|Printing, publish...|  102|\n",
      "+--------------------+-----+\n",
      "only showing top 3 rows\n",
      "\n"
     ]
    }
   ],
   "source": [
    "spark.sql(\"\"\"\n",
    "    SELECT industry, value\n",
    "    FROM data\n",
    "    WHERE value > 99\n",
    "        AND industry != \"total\"\n",
    "    ORDER BY value\n",
    "\"\"\").show(3)\n"
   ]
  }
 ],
 "metadata": {
  "kernelspec": {
   "display_name": "Python 3",
   "language": "python",
   "name": "python3"
  },
  "language_info": {
   "codemirror_mode": {
    "name": "ipython",
    "version": 3
   },
   "file_extension": ".py",
   "mimetype": "text/x-python",
   "name": "python",
   "nbconvert_exporter": "python",
   "pygments_lexer": "ipython3",
   "version": "3.12.9"
  }
 },
 "nbformat": 4,
 "nbformat_minor": 2
}
