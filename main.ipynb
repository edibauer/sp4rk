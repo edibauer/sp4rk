{
 "cells": [
  {
   "cell_type": "code",
   "execution_count": 5,
   "metadata": {},
   "outputs": [],
   "source": [
    "from pyspark.sql import SparkSession\n",
    "from pyspark import SparkContext\n",
    "\n",
    "# if __name__ == \"__main__\":\n",
    "    # spark = SparkSesion.builder.appName(\"MyApp\").getOrCreate()\n",
    "SpSession = SparkSession \\\n",
    "    .builder \\\n",
    "    .appName(\"Demo Spark\") \\\n",
    "    .getOrCreate()\n",
    "\n",
    "sparkContext = SpSession.sparkContext # clusters\n"
   ]
  },
  {
   "cell_type": "markdown",
   "metadata": {},
   "source": [
    "# Upload data"
   ]
  },
  {
   "cell_type": "code",
   "execution_count": 8,
   "metadata": {},
   "outputs": [
    {
     "name": "stdout",
     "output_type": "stream",
     "text": [
      "+--------------------+------+---------+------------+----------+------+------------+-----+------+\n",
      "|                 Car|   MPG|Cylinders|Displacement|Horsepower|Weight|Acceleration|Model|Origin|\n",
      "+--------------------+------+---------+------------+----------+------+------------+-----+------+\n",
      "|              STRING|DOUBLE|      INT|      DOUBLE|    DOUBLE|DOUBLE|      DOUBLE|  INT|   CAT|\n",
      "|Chevrolet Chevell...|  18.0|        8|       307.0|     130.0| 3504.|        12.0|   70|    US|\n",
      "|   Buick Skylark 320|  15.0|        8|       350.0|     165.0| 3693.|        11.5|   70|    US|\n",
      "|  Plymouth Satellite|  18.0|        8|       318.0|     150.0| 3436.|        11.0|   70|    US|\n",
      "|       AMC Rebel SST|  16.0|        8|       304.0|     150.0| 3433.|        12.0|   70|    US|\n",
      "|         Ford Torino|  17.0|        8|       302.0|     140.0| 3449.|        10.5|   70|    US|\n",
      "+--------------------+------+---------+------------+----------+------+------------+-----+------+\n",
      "only showing top 6 rows\n",
      "\n"
     ]
    }
   ],
   "source": [
    "data = SpSession.read.csv(\"cars.csv\", header=True, sep=\";\")\n",
    "data.show(6)"
   ]
  },
  {
   "cell_type": "markdown",
   "metadata": {},
   "source": [
    "# Knowing data"
   ]
  },
  {
   "cell_type": "code",
   "execution_count": 9,
   "metadata": {},
   "outputs": [
    {
     "name": "stdout",
     "output_type": "stream",
     "text": [
      "root\n",
      " |-- Car: string (nullable = true)\n",
      " |-- MPG: string (nullable = true)\n",
      " |-- Cylinders: string (nullable = true)\n",
      " |-- Displacement: string (nullable = true)\n",
      " |-- Horsepower: string (nullable = true)\n",
      " |-- Weight: string (nullable = true)\n",
      " |-- Acceleration: string (nullable = true)\n",
      " |-- Model: string (nullable = true)\n",
      " |-- Origin: string (nullable = true)\n",
      "\n"
     ]
    }
   ],
   "source": [
    "data.printSchema() # desc table"
   ]
  },
  {
   "cell_type": "code",
   "execution_count": 10,
   "metadata": {},
   "outputs": [
    {
     "data": {
      "text/plain": [
       "['Car',\n",
       " 'MPG',\n",
       " 'Cylinders',\n",
       " 'Displacement',\n",
       " 'Horsepower',\n",
       " 'Weight',\n",
       " 'Acceleration',\n",
       " 'Model',\n",
       " 'Origin']"
      ]
     },
     "execution_count": 10,
     "metadata": {},
     "output_type": "execute_result"
    }
   ],
   "source": [
    "data.columns # columns"
   ]
  },
  {
   "cell_type": "code",
   "execution_count": 12,
   "metadata": {},
   "outputs": [
    {
     "data": {
      "text/plain": [
       "[('Car', 'string'),\n",
       " ('MPG', 'string'),\n",
       " ('Cylinders', 'string'),\n",
       " ('Displacement', 'string'),\n",
       " ('Horsepower', 'string'),\n",
       " ('Weight', 'string'),\n",
       " ('Acceleration', 'string'),\n",
       " ('Model', 'string'),\n",
       " ('Origin', 'string')]"
      ]
     },
     "execution_count": 12,
     "metadata": {},
     "output_type": "execute_result"
    }
   ],
   "source": [
    "data.dtypes # data type"
   ]
  },
  {
   "cell_type": "markdown",
   "metadata": {},
   "source": [
    "# Selecting columns"
   ]
  },
  {
   "cell_type": "code",
   "execution_count": 13,
   "metadata": {},
   "outputs": [
    {
     "name": "stdout",
     "output_type": "stream",
     "text": [
      "+--------------------+\n",
      "|                 Car|\n",
      "+--------------------+\n",
      "|              STRING|\n",
      "|Chevrolet Chevell...|\n",
      "|   Buick Skylark 320|\n",
      "|  Plymouth Satellite|\n",
      "|       AMC Rebel SST|\n",
      "|         Ford Torino|\n",
      "|    Ford Galaxie 500|\n",
      "|    Chevrolet Impala|\n",
      "|   Plymouth Fury iii|\n",
      "|    Pontiac Catalina|\n",
      "|  AMC Ambassador DPL|\n",
      "|Citroen DS-21 Pallas|\n",
      "|Chevrolet Chevell...|\n",
      "|    Ford Torino (sw)|\n",
      "|Plymouth Satellit...|\n",
      "|  AMC Rebel SST (sw)|\n",
      "| Dodge Challenger SE|\n",
      "|  Plymouth 'Cuda 340|\n",
      "|Ford Mustang Boss...|\n",
      "|Chevrolet Monte C...|\n",
      "+--------------------+\n",
      "only showing top 20 rows\n",
      "\n"
     ]
    }
   ],
   "source": [
    "# method 1\n",
    "data.select(data.Car).show()\n",
    "# data.select(data.Car).show() truncate=False - view all info per row"
   ]
  },
  {
   "cell_type": "code",
   "execution_count": 15,
   "metadata": {},
   "outputs": [
    {
     "name": "stdout",
     "output_type": "stream",
     "text": [
      "+--------------------------------+\n",
      "|Car                             |\n",
      "+--------------------------------+\n",
      "|STRING                          |\n",
      "|Chevrolet Chevelle Malibu       |\n",
      "|Buick Skylark 320               |\n",
      "|Plymouth Satellite              |\n",
      "|AMC Rebel SST                   |\n",
      "|Ford Torino                     |\n",
      "|Ford Galaxie 500                |\n",
      "|Chevrolet Impala                |\n",
      "|Plymouth Fury iii               |\n",
      "|Pontiac Catalina                |\n",
      "|AMC Ambassador DPL              |\n",
      "|Citroen DS-21 Pallas            |\n",
      "|Chevrolet Chevelle Concours (sw)|\n",
      "|Ford Torino (sw)                |\n",
      "|Plymouth Satellite (sw)         |\n",
      "|AMC Rebel SST (sw)              |\n",
      "|Dodge Challenger SE             |\n",
      "|Plymouth 'Cuda 340              |\n",
      "|Ford Mustang Boss 302           |\n",
      "|Chevrolet Monte Carlo           |\n",
      "+--------------------------------+\n",
      "only showing top 20 rows\n",
      "\n"
     ]
    }
   ],
   "source": [
    "# method 2\n",
    "from os import truncate\n",
    "data.select(data[\"Car\"]).show(truncate=False)"
   ]
  },
  {
   "cell_type": "code",
   "execution_count": 16,
   "metadata": {},
   "outputs": [
    {
     "name": "stdout",
     "output_type": "stream",
     "text": [
      "+--------------------------------+\n",
      "|Car                             |\n",
      "+--------------------------------+\n",
      "|STRING                          |\n",
      "|Chevrolet Chevelle Malibu       |\n",
      "|Buick Skylark 320               |\n",
      "|Plymouth Satellite              |\n",
      "|AMC Rebel SST                   |\n",
      "|Ford Torino                     |\n",
      "|Ford Galaxie 500                |\n",
      "|Chevrolet Impala                |\n",
      "|Plymouth Fury iii               |\n",
      "|Pontiac Catalina                |\n",
      "|AMC Ambassador DPL              |\n",
      "|Citroen DS-21 Pallas            |\n",
      "|Chevrolet Chevelle Concours (sw)|\n",
      "|Ford Torino (sw)                |\n",
      "|Plymouth Satellite (sw)         |\n",
      "|AMC Rebel SST (sw)              |\n",
      "|Dodge Challenger SE             |\n",
      "|Plymouth 'Cuda 340              |\n",
      "|Ford Mustang Boss 302           |\n",
      "|Chevrolet Monte Carlo           |\n",
      "+--------------------------------+\n",
      "only showing top 20 rows\n",
      "\n"
     ]
    }
   ],
   "source": [
    "# method 3\n",
    "from pyspark.sql.functions import col\n",
    "data.select(col(\"Car\")).show(truncate=False)"
   ]
  },
  {
   "cell_type": "markdown",
   "metadata": {},
   "source": [
    "### Multiple Selection"
   ]
  },
  {
   "cell_type": "code",
   "execution_count": 17,
   "metadata": {},
   "outputs": [
    {
     "name": "stdout",
     "output_type": "stream",
     "text": [
      "+--------------------------------+---------+\n",
      "|Car                             |Cylinders|\n",
      "+--------------------------------+---------+\n",
      "|STRING                          |INT      |\n",
      "|Chevrolet Chevelle Malibu       |8        |\n",
      "|Buick Skylark 320               |8        |\n",
      "|Plymouth Satellite              |8        |\n",
      "|AMC Rebel SST                   |8        |\n",
      "|Ford Torino                     |8        |\n",
      "|Ford Galaxie 500                |8        |\n",
      "|Chevrolet Impala                |8        |\n",
      "|Plymouth Fury iii               |8        |\n",
      "|Pontiac Catalina                |8        |\n",
      "|AMC Ambassador DPL              |8        |\n",
      "|Citroen DS-21 Pallas            |4        |\n",
      "|Chevrolet Chevelle Concours (sw)|8        |\n",
      "|Ford Torino (sw)                |8        |\n",
      "|Plymouth Satellite (sw)         |8        |\n",
      "|AMC Rebel SST (sw)              |8        |\n",
      "|Dodge Challenger SE             |8        |\n",
      "|Plymouth 'Cuda 340              |8        |\n",
      "|Ford Mustang Boss 302           |8        |\n",
      "|Chevrolet Monte Carlo           |8        |\n",
      "+--------------------------------+---------+\n",
      "only showing top 20 rows\n",
      "\n"
     ]
    }
   ],
   "source": [
    "# 1\n",
    "data.select(data.Car, data.Cylinders).show(truncate=False)"
   ]
  },
  {
   "cell_type": "code",
   "execution_count": 21,
   "metadata": {},
   "outputs": [
    {
     "name": "stdout",
     "output_type": "stream",
     "text": [
      "+--------------------------------+---------+\n",
      "|Car                             |Cylinders|\n",
      "+--------------------------------+---------+\n",
      "|STRING                          |INT      |\n",
      "|Chevrolet Chevelle Malibu       |8        |\n",
      "|Buick Skylark 320               |8        |\n",
      "|Plymouth Satellite              |8        |\n",
      "|AMC Rebel SST                   |8        |\n",
      "|Ford Torino                     |8        |\n",
      "|Ford Galaxie 500                |8        |\n",
      "|Chevrolet Impala                |8        |\n",
      "|Plymouth Fury iii               |8        |\n",
      "|Pontiac Catalina                |8        |\n",
      "|AMC Ambassador DPL              |8        |\n",
      "|Citroen DS-21 Pallas            |4        |\n",
      "|Chevrolet Chevelle Concours (sw)|8        |\n",
      "|Ford Torino (sw)                |8        |\n",
      "|Plymouth Satellite (sw)         |8        |\n",
      "|AMC Rebel SST (sw)              |8        |\n",
      "|Dodge Challenger SE             |8        |\n",
      "|Plymouth 'Cuda 340              |8        |\n",
      "|Ford Mustang Boss 302           |8        |\n",
      "|Chevrolet Monte Carlo           |8        |\n",
      "+--------------------------------+---------+\n",
      "only showing top 20 rows\n",
      "\n"
     ]
    }
   ],
   "source": [
    "# 2\n",
    "data.select(data[\"Car\"], data[\"Cylinders\"]).show(truncate=False) # No upper case sensitive"
   ]
  },
  {
   "cell_type": "code",
   "execution_count": 23,
   "metadata": {},
   "outputs": [
    {
     "name": "stdout",
     "output_type": "stream",
     "text": [
      "+--------------------------------+---------+\n",
      "|Car                             |Cylinders|\n",
      "+--------------------------------+---------+\n",
      "|STRING                          |INT      |\n",
      "|Chevrolet Chevelle Malibu       |8        |\n",
      "|Buick Skylark 320               |8        |\n",
      "|Plymouth Satellite              |8        |\n",
      "|AMC Rebel SST                   |8        |\n",
      "|Ford Torino                     |8        |\n",
      "|Ford Galaxie 500                |8        |\n",
      "|Chevrolet Impala                |8        |\n",
      "|Plymouth Fury iii               |8        |\n",
      "|Pontiac Catalina                |8        |\n",
      "|AMC Ambassador DPL              |8        |\n",
      "|Citroen DS-21 Pallas            |4        |\n",
      "|Chevrolet Chevelle Concours (sw)|8        |\n",
      "|Ford Torino (sw)                |8        |\n",
      "|Plymouth Satellite (sw)         |8        |\n",
      "|AMC Rebel SST (sw)              |8        |\n",
      "|Dodge Challenger SE             |8        |\n",
      "|Plymouth 'Cuda 340              |8        |\n",
      "|Ford Mustang Boss 302           |8        |\n",
      "|Chevrolet Monte Carlo           |8        |\n",
      "+--------------------------------+---------+\n",
      "only showing top 20 rows\n",
      "\n"
     ]
    }
   ],
   "source": [
    "data.select(col(\"Car\"),col(\"Cylinders\")).show(truncate=False)"
   ]
  },
  {
   "cell_type": "markdown",
   "metadata": {},
   "source": [
    "# Add columns"
   ]
  },
  {
   "cell_type": "code",
   "execution_count": 26,
   "metadata": {},
   "outputs": [
    {
     "name": "stdout",
     "output_type": "stream",
     "text": [
      "+-------------------------+------+---------+------------+----------+------+------------+-----+------+------------+\n",
      "|Car                      |MPG   |Cylinders|Displacement|Horsepower|Weight|Acceleration|Model|Origin|First_Column|\n",
      "+-------------------------+------+---------+------------+----------+------+------------+-----+------+------------+\n",
      "|STRING                   |DOUBLE|INT      |DOUBLE      |DOUBLE    |DOUBLE|DOUBLE      |INT  |CAT   |1           |\n",
      "|Chevrolet Chevelle Malibu|18.0  |8        |307.0       |130.0     |3504. |12.0        |70   |US    |1           |\n",
      "|Buick Skylark 320        |15.0  |8        |350.0       |165.0     |3693. |11.5        |70   |US    |1           |\n",
      "|Plymouth Satellite       |18.0  |8        |318.0       |150.0     |3436. |11.0        |70   |US    |1           |\n",
      "|AMC Rebel SST            |16.0  |8        |304.0       |150.0     |3433. |12.0        |70   |US    |1           |\n",
      "|Ford Torino              |17.0  |8        |302.0       |140.0     |3449. |10.5        |70   |US    |1           |\n",
      "+-------------------------+------+---------+------------+----------+------+------------+-----+------+------------+\n",
      "only showing top 6 rows\n",
      "\n"
     ]
    }
   ],
   "source": [
    "# 1\n",
    "from pyspark.sql.functions import lit\n",
    "\n",
    "df = data.withColumn(\"First_Column\", lit(1))\n",
    "df.show(6, truncate=False)"
   ]
  },
  {
   "cell_type": "code",
   "execution_count": 27,
   "metadata": {},
   "outputs": [
    {
     "name": "stdout",
     "output_type": "stream",
     "text": [
      "+-------------------------+------+---------+------------+----------+------+------------+-----+------+-------------+---------------+\n",
      "|Car                      |MPG   |Cylinders|Displacement|Horsepower|Weight|Acceleration|Model|Origin|Second_Column|Third_Column   |\n",
      "+-------------------------+------+---------+------------+----------+------+------------+-----+------+-------------+---------------+\n",
      "|STRING                   |DOUBLE|INT      |DOUBLE      |DOUBLE    |DOUBLE|DOUBLE      |INT  |CAT   |2            |si venga hombre|\n",
      "|Chevrolet Chevelle Malibu|18.0  |8        |307.0       |130.0     |3504. |12.0        |70   |US    |2            |si venga hombre|\n",
      "|Buick Skylark 320        |15.0  |8        |350.0       |165.0     |3693. |11.5        |70   |US    |2            |si venga hombre|\n",
      "|Plymouth Satellite       |18.0  |8        |318.0       |150.0     |3436. |11.0        |70   |US    |2            |si venga hombre|\n",
      "|AMC Rebel SST            |16.0  |8        |304.0       |150.0     |3433. |12.0        |70   |US    |2            |si venga hombre|\n",
      "|Ford Torino              |17.0  |8        |302.0       |140.0     |3449. |10.5        |70   |US    |2            |si venga hombre|\n",
      "+-------------------------+------+---------+------------+----------+------+------------+-----+------+-------------+---------------+\n",
      "only showing top 6 rows\n",
      "\n"
     ]
    }
   ],
   "source": [
    "# 2\n",
    "df = data.withColumn(\"Second_Column\", lit(2)) \\\n",
    "    .withColumn(\"Third_Column\", lit(\"si venga hombre\"))\n",
    "df.show(6, truncate=False)"
   ]
  },
  {
   "cell_type": "markdown",
   "metadata": {},
   "source": [
    "# Grouping"
   ]
  },
  {
   "cell_type": "code",
   "execution_count": 28,
   "metadata": {},
   "outputs": [
    {
     "name": "stdout",
     "output_type": "stream",
     "text": [
      "+------+-----+\n",
      "|Origin|count|\n",
      "+------+-----+\n",
      "|Europe|   73|\n",
      "|    US|  254|\n",
      "|   CAT|    1|\n",
      "| Japan|   79|\n",
      "+------+-----+\n",
      "\n"
     ]
    }
   ],
   "source": [
    "df.groupBy(\"Origin\").count().show()"
   ]
  },
  {
   "cell_type": "code",
   "execution_count": 29,
   "metadata": {},
   "outputs": [
    {
     "name": "stdout",
     "output_type": "stream",
     "text": [
      "+----------+-----+\n",
      "|Horsepower|count|\n",
      "+----------+-----+\n",
      "|     102.0|    1|\n",
      "|     68.00|    6|\n",
      "|     116.0|    1|\n",
      "|     145.0|    7|\n",
      "|     90.00|   20|\n",
      "|     87.00|    2|\n",
      "|     170.0|    5|\n",
      "|     75.00|   14|\n",
      "|     132.0|    1|\n",
      "|     84.00|    6|\n",
      "|     88.00|   19|\n",
      "|     200.0|    1|\n",
      "|     152.0|    1|\n",
      "|         0|    6|\n",
      "|     120.0|    4|\n",
      "|     80.00|    7|\n",
      "|     108.0|    1|\n",
      "|     58.00|    2|\n",
      "|     210.0|    1|\n",
      "|     96.00|    3|\n",
      "+----------+-----+\n",
      "only showing top 20 rows\n",
      "\n"
     ]
    }
   ],
   "source": [
    "df.groupBy(\"Horsepower\").count().show()"
   ]
  },
  {
   "cell_type": "code",
   "execution_count": 30,
   "metadata": {},
   "outputs": [
    {
     "name": "stdout",
     "output_type": "stream",
     "text": [
      "+------+----------+-----+\n",
      "|Origin|Horsepower|count|\n",
      "+------+----------+-----+\n",
      "|Europe|     46.00|    2|\n",
      "| Japan|     67.00|    8|\n",
      "|    US|     198.0|    2|\n",
      "|    US|     75.00|    3|\n",
      "|    US|     60.00|    1|\n",
      "| Japan|     97.00|    7|\n",
      "+------+----------+-----+\n",
      "only showing top 6 rows\n",
      "\n"
     ]
    }
   ],
   "source": [
    "df.groupBy(\"Origin\",\"Horsepower\").count().show(6)"
   ]
  },
  {
   "cell_type": "markdown",
   "metadata": {},
   "source": [
    "# Deleting Columns"
   ]
  },
  {
   "cell_type": "code",
   "execution_count": 31,
   "metadata": {},
   "outputs": [
    {
     "name": "stdout",
     "output_type": "stream",
     "text": [
      "+--------------------+------+---------+------------+----------+------+------------+-----+------+-------------+---------------+\n",
      "|                 Car|   MPG|Cylinders|Displacement|Horsepower|Weight|Acceleration|Model|Origin|Second_Column|   Third_Column|\n",
      "+--------------------+------+---------+------------+----------+------+------------+-----+------+-------------+---------------+\n",
      "|              STRING|DOUBLE|      INT|      DOUBLE|    DOUBLE|DOUBLE|      DOUBLE|  INT|   CAT|            2|si venga hombre|\n",
      "|Chevrolet Chevell...|  18.0|        8|       307.0|     130.0| 3504.|        12.0|   70|    US|            2|si venga hombre|\n",
      "|   Buick Skylark 320|  15.0|        8|       350.0|     165.0| 3693.|        11.5|   70|    US|            2|si venga hombre|\n",
      "|  Plymouth Satellite|  18.0|        8|       318.0|     150.0| 3436.|        11.0|   70|    US|            2|si venga hombre|\n",
      "|       AMC Rebel SST|  16.0|        8|       304.0|     150.0| 3433.|        12.0|   70|    US|            2|si venga hombre|\n",
      "|         Ford Torino|  17.0|        8|       302.0|     140.0| 3449.|        10.5|   70|    US|            2|si venga hombre|\n",
      "|    Ford Galaxie 500|  15.0|        8|       429.0|     198.0| 4341.|        10.0|   70|    US|            2|si venga hombre|\n",
      "|    Chevrolet Impala|  14.0|        8|       454.0|     220.0| 4354.|         9.0|   70|    US|            2|si venga hombre|\n",
      "|   Plymouth Fury iii|  14.0|        8|       440.0|     215.0| 4312.|         8.5|   70|    US|            2|si venga hombre|\n",
      "|    Pontiac Catalina|  14.0|        8|       455.0|     225.0| 4425.|        10.0|   70|    US|            2|si venga hombre|\n",
      "|  AMC Ambassador DPL|  15.0|        8|       390.0|     190.0| 3850.|         8.5|   70|    US|            2|si venga hombre|\n",
      "|Citroen DS-21 Pallas|     0|        4|       133.0|     115.0| 3090.|        17.5|   70|Europe|            2|si venga hombre|\n",
      "|Chevrolet Chevell...|     0|        8|       350.0|     165.0| 4142.|        11.5|   70|    US|            2|si venga hombre|\n",
      "|    Ford Torino (sw)|     0|        8|       351.0|     153.0| 4034.|        11.0|   70|    US|            2|si venga hombre|\n",
      "|Plymouth Satellit...|     0|        8|       383.0|     175.0| 4166.|        10.5|   70|    US|            2|si venga hombre|\n",
      "|  AMC Rebel SST (sw)|     0|        8|       360.0|     175.0| 3850.|        11.0|   70|    US|            2|si venga hombre|\n",
      "| Dodge Challenger SE|  15.0|        8|       383.0|     170.0| 3563.|        10.0|   70|    US|            2|si venga hombre|\n",
      "|  Plymouth 'Cuda 340|  14.0|        8|       340.0|     160.0| 3609.|         8.0|   70|    US|            2|si venga hombre|\n",
      "|Ford Mustang Boss...|     0|        8|       302.0|     140.0| 3353.|         8.0|   70|    US|            2|si venga hombre|\n",
      "|Chevrolet Monte C...|  15.0|        8|       400.0|     150.0| 3761.|         9.5|   70|    US|            2|si venga hombre|\n",
      "+--------------------+------+---------+------------+----------+------+------------+-----+------+-------------+---------------+\n",
      "only showing top 20 rows\n",
      "\n"
     ]
    }
   ],
   "source": [
    "df.show()"
   ]
  },
  {
   "cell_type": "code",
   "execution_count": 32,
   "metadata": {},
   "outputs": [
    {
     "name": "stdout",
     "output_type": "stream",
     "text": [
      "+--------------------+------+---------+------------+----------+------+------------+-----+------+---------------+\n",
      "|                 Car|   MPG|Cylinders|Displacement|Horsepower|Weight|Acceleration|Model|Origin|   Third_Column|\n",
      "+--------------------+------+---------+------------+----------+------+------------+-----+------+---------------+\n",
      "|              STRING|DOUBLE|      INT|      DOUBLE|    DOUBLE|DOUBLE|      DOUBLE|  INT|   CAT|si venga hombre|\n",
      "|Chevrolet Chevell...|  18.0|        8|       307.0|     130.0| 3504.|        12.0|   70|    US|si venga hombre|\n",
      "|   Buick Skylark 320|  15.0|        8|       350.0|     165.0| 3693.|        11.5|   70|    US|si venga hombre|\n",
      "|  Plymouth Satellite|  18.0|        8|       318.0|     150.0| 3436.|        11.0|   70|    US|si venga hombre|\n",
      "|       AMC Rebel SST|  16.0|        8|       304.0|     150.0| 3433.|        12.0|   70|    US|si venga hombre|\n",
      "|         Ford Torino|  17.0|        8|       302.0|     140.0| 3449.|        10.5|   70|    US|si venga hombre|\n",
      "|    Ford Galaxie 500|  15.0|        8|       429.0|     198.0| 4341.|        10.0|   70|    US|si venga hombre|\n",
      "|    Chevrolet Impala|  14.0|        8|       454.0|     220.0| 4354.|         9.0|   70|    US|si venga hombre|\n",
      "|   Plymouth Fury iii|  14.0|        8|       440.0|     215.0| 4312.|         8.5|   70|    US|si venga hombre|\n",
      "|    Pontiac Catalina|  14.0|        8|       455.0|     225.0| 4425.|        10.0|   70|    US|si venga hombre|\n",
      "|  AMC Ambassador DPL|  15.0|        8|       390.0|     190.0| 3850.|         8.5|   70|    US|si venga hombre|\n",
      "|Citroen DS-21 Pallas|     0|        4|       133.0|     115.0| 3090.|        17.5|   70|Europe|si venga hombre|\n",
      "|Chevrolet Chevell...|     0|        8|       350.0|     165.0| 4142.|        11.5|   70|    US|si venga hombre|\n",
      "|    Ford Torino (sw)|     0|        8|       351.0|     153.0| 4034.|        11.0|   70|    US|si venga hombre|\n",
      "|Plymouth Satellit...|     0|        8|       383.0|     175.0| 4166.|        10.5|   70|    US|si venga hombre|\n",
      "|  AMC Rebel SST (sw)|     0|        8|       360.0|     175.0| 3850.|        11.0|   70|    US|si venga hombre|\n",
      "| Dodge Challenger SE|  15.0|        8|       383.0|     170.0| 3563.|        10.0|   70|    US|si venga hombre|\n",
      "|  Plymouth 'Cuda 340|  14.0|        8|       340.0|     160.0| 3609.|         8.0|   70|    US|si venga hombre|\n",
      "|Ford Mustang Boss...|     0|        8|       302.0|     140.0| 3353.|         8.0|   70|    US|si venga hombre|\n",
      "|Chevrolet Monte C...|  15.0|        8|       400.0|     150.0| 3761.|         9.5|   70|    US|si venga hombre|\n",
      "+--------------------+------+---------+------------+----------+------+------------+-----+------+---------------+\n",
      "only showing top 20 rows\n",
      "\n"
     ]
    }
   ],
   "source": [
    "df = df.drop(\"Second_Column\") #df = df.drop(\"Second_Column\", \"Third_Column\")\n",
    "df.show()"
   ]
  },
  {
   "cell_type": "markdown",
   "metadata": {},
   "source": [
    "# Order"
   ]
  },
  {
   "cell_type": "code",
   "execution_count": 37,
   "metadata": {},
   "outputs": [
    {
     "name": "stdout",
     "output_type": "stream",
     "text": [
      "+-------------------------+------+---------+------------+----------+------+------------+-----+------+---------------+\n",
      "|Car                      |MPG   |Cylinders|Displacement|Horsepower|Weight|Acceleration|Model|Origin|Third_Column   |\n",
      "+-------------------------+------+---------+------------+----------+------+------------+-----+------+---------------+\n",
      "|STRING                   |DOUBLE|INT      |DOUBLE      |DOUBLE    |DOUBLE|DOUBLE      |INT  |CAT   |si venga hombre|\n",
      "|Chevrolet Chevelle Malibu|18.0  |8        |307.0       |130.0     |3504. |12.0        |70   |US    |si venga hombre|\n",
      "|Buick Skylark 320        |15.0  |8        |350.0       |165.0     |3693. |11.5        |70   |US    |si venga hombre|\n",
      "|Plymouth Satellite       |18.0  |8        |318.0       |150.0     |3436. |11.0        |70   |US    |si venga hombre|\n",
      "|AMC Rebel SST            |16.0  |8        |304.0       |150.0     |3433. |12.0        |70   |US    |si venga hombre|\n",
      "|Ford Torino              |17.0  |8        |302.0       |140.0     |3449. |10.5        |70   |US    |si venga hombre|\n",
      "+-------------------------+------+---------+------------+----------+------+------------+-----+------+---------------+\n",
      "only showing top 6 rows\n",
      "\n"
     ]
    }
   ],
   "source": [
    "df.orderBy(\"Cylinders\", ascending=False).show(6, truncate=False)"
   ]
  },
  {
   "cell_type": "code",
   "execution_count": 39,
   "metadata": {},
   "outputs": [
    {
     "name": "stdout",
     "output_type": "stream",
     "text": [
      "+------+-----+\n",
      "|Origin|count|\n",
      "+------+-----+\n",
      "|    US|  254|\n",
      "| Japan|   79|\n",
      "|Europe|   73|\n",
      "|   CAT|    1|\n",
      "+------+-----+\n",
      "\n"
     ]
    }
   ],
   "source": [
    "df.groupBy(\"Origin\").count().orderBy(\"count\", ascending=False).show(9)"
   ]
  },
  {
   "cell_type": "markdown",
   "metadata": {},
   "source": [
    "# Filtering"
   ]
  },
  {
   "cell_type": "code",
   "execution_count": 40,
   "metadata": {},
   "outputs": [
    {
     "name": "stdout",
     "output_type": "stream",
     "text": [
      "+--------------------+------+---------+------------+----------+------+------------+-----+------+---------------+\n",
      "|                 Car|   MPG|Cylinders|Displacement|Horsepower|Weight|Acceleration|Model|Origin|   Third_Column|\n",
      "+--------------------+------+---------+------------+----------+------+------------+-----+------+---------------+\n",
      "|              STRING|DOUBLE|      INT|      DOUBLE|    DOUBLE|DOUBLE|      DOUBLE|  INT|   CAT|si venga hombre|\n",
      "|Chevrolet Chevell...|  18.0|        8|       307.0|     130.0| 3504.|        12.0|   70|    US|si venga hombre|\n",
      "|   Buick Skylark 320|  15.0|        8|       350.0|     165.0| 3693.|        11.5|   70|    US|si venga hombre|\n",
      "|  Plymouth Satellite|  18.0|        8|       318.0|     150.0| 3436.|        11.0|   70|    US|si venga hombre|\n",
      "|       AMC Rebel SST|  16.0|        8|       304.0|     150.0| 3433.|        12.0|   70|    US|si venga hombre|\n",
      "|         Ford Torino|  17.0|        8|       302.0|     140.0| 3449.|        10.5|   70|    US|si venga hombre|\n",
      "|    Ford Galaxie 500|  15.0|        8|       429.0|     198.0| 4341.|        10.0|   70|    US|si venga hombre|\n",
      "|    Chevrolet Impala|  14.0|        8|       454.0|     220.0| 4354.|         9.0|   70|    US|si venga hombre|\n",
      "|   Plymouth Fury iii|  14.0|        8|       440.0|     215.0| 4312.|         8.5|   70|    US|si venga hombre|\n",
      "|    Pontiac Catalina|  14.0|        8|       455.0|     225.0| 4425.|        10.0|   70|    US|si venga hombre|\n",
      "|  AMC Ambassador DPL|  15.0|        8|       390.0|     190.0| 3850.|         8.5|   70|    US|si venga hombre|\n",
      "|Citroen DS-21 Pallas|     0|        4|       133.0|     115.0| 3090.|        17.5|   70|Europe|si venga hombre|\n",
      "|Chevrolet Chevell...|     0|        8|       350.0|     165.0| 4142.|        11.5|   70|    US|si venga hombre|\n",
      "|    Ford Torino (sw)|     0|        8|       351.0|     153.0| 4034.|        11.0|   70|    US|si venga hombre|\n",
      "|Plymouth Satellit...|     0|        8|       383.0|     175.0| 4166.|        10.5|   70|    US|si venga hombre|\n",
      "|  AMC Rebel SST (sw)|     0|        8|       360.0|     175.0| 3850.|        11.0|   70|    US|si venga hombre|\n",
      "| Dodge Challenger SE|  15.0|        8|       383.0|     170.0| 3563.|        10.0|   70|    US|si venga hombre|\n",
      "|  Plymouth 'Cuda 340|  14.0|        8|       340.0|     160.0| 3609.|         8.0|   70|    US|si venga hombre|\n",
      "|Ford Mustang Boss...|     0|        8|       302.0|     140.0| 3353.|         8.0|   70|    US|si venga hombre|\n",
      "|Chevrolet Monte C...|  15.0|        8|       400.0|     150.0| 3761.|         9.5|   70|    US|si venga hombre|\n",
      "+--------------------+------+---------+------------+----------+------+------------+-----+------+---------------+\n",
      "only showing top 20 rows\n",
      "\n"
     ]
    }
   ],
   "source": [
    "df.show()"
   ]
  },
  {
   "cell_type": "code",
   "execution_count": 41,
   "metadata": {},
   "outputs": [
    {
     "data": {
      "text/plain": [
       "407"
      ]
     },
     "execution_count": 41,
     "metadata": {},
     "output_type": "execute_result"
    }
   ],
   "source": [
    "total_count = df.count()\n",
    "total_count"
   ]
  },
  {
   "cell_type": "code",
   "execution_count": 45,
   "metadata": {},
   "outputs": [
    {
     "name": "stdout",
     "output_type": "stream",
     "text": [
      "+--------------------+----+---------+------------+----------+------+------------+-----+------+---------------+\n",
      "|                 Car| MPG|Cylinders|Displacement|Horsepower|Weight|Acceleration|Model|Origin|   Third_Column|\n",
      "+--------------------+----+---------+------------+----------+------+------------+-----+------+---------------+\n",
      "|Citroen DS-21 Pallas|   0|        4|       133.0|     115.0| 3090.|        17.5|   70|Europe|si venga hombre|\n",
      "|Volkswagen 1131 D...|26.0|        4|       97.00|     46.00| 1835.|        20.5|   70|Europe|si venga hombre|\n",
      "|         Peugeot 504|25.0|        4|       110.0|     87.00| 2672.|        17.5|   70|Europe|si venga hombre|\n",
      "|         Audi 100 LS|24.0|        4|       107.0|     90.00| 2430.|        14.5|   70|Europe|si venga hombre|\n",
      "|            Saab 99e|25.0|        4|       104.0|     95.00| 2375.|        17.5|   70|Europe|si venga hombre|\n",
      "|            BMW 2002|26.0|        4|       121.0|     113.0| 2234.|        12.5|   70|Europe|si venga hombre|\n",
      "|Volkswagen Super ...|   0|        4|       97.00|     48.00| 1978.|        20.0|   71|Europe|si venga hombre|\n",
      "|           Opel 1900|28.0|        4|       116.0|     90.00| 2123.|        14.0|   71|Europe|si venga hombre|\n",
      "|         Peugeot 304|30.0|        4|       79.00|     70.00| 2074.|        19.5|   71|Europe|si venga hombre|\n",
      "|           Fiat 124B|30.0|        4|       88.00|     76.00| 2065.|        14.5|   71|Europe|si venga hombre|\n",
      "|Volkswagen Model 111|27.0|        4|       97.00|     60.00| 1834.|        19.0|   71|Europe|si venga hombre|\n",
      "|   Volkswagen Type 3|23.0|        4|       97.00|     54.00| 2254.|        23.5|   72|Europe|si venga hombre|\n",
      "|     Volvo 145e (sw)|18.0|        4|       121.0|     112.0| 2933.|        14.5|   72|Europe|si venga hombre|\n",
      "| Volkswagen 411 (sw)|22.0|        4|       121.0|     76.00| 2511.|        18.0|   72|Europe|si venga hombre|\n",
      "|    Peugeot 504 (sw)|21.0|        4|       120.0|     87.00| 2979.|        19.5|   72|Europe|si venga hombre|\n",
      "|     Renault 12 (sw)|26.0|        4|       96.00|     69.00| 2189.|        18.0|   72|Europe|si venga hombre|\n",
      "|Volkswagen Super ...|26.0|        4|       97.00|     46.00| 1950.|        21.0|   73|Europe|si venga hombre|\n",
      "|Fiat 124 Sport Coupe|26.0|        4|       98.00|     90.00| 2265.|        15.5|   73|Europe|si venga hombre|\n",
      "|            Fiat 128|29.0|        4|       68.00|     49.00| 1867.|        19.5|   73|Europe|si venga hombre|\n",
      "|          Opel Manta|24.0|        4|       116.0|     75.00| 2158.|        15.5|   73|Europe|si venga hombre|\n",
      "+--------------------+----+---------+------------+----------+------+------------+-----+------+---------------+\n",
      "only showing top 20 rows\n",
      "\n"
     ]
    }
   ],
   "source": [
    "df.filter(df[\"Origin\"] == \"Europe\").count()\n",
    "df.filter(df[\"Origin\"] == \"Europe\").show()"
   ]
  },
  {
   "cell_type": "code",
   "execution_count": 47,
   "metadata": {},
   "outputs": [
    {
     "name": "stdout",
     "output_type": "stream",
     "text": [
      "+--------------------+----+---------+------------+----------+------+------------+-----+------+---------------+\n",
      "|                 Car| MPG|Cylinders|Displacement|Horsepower|Weight|Acceleration|Model|Origin|   Third_Column|\n",
      "+--------------------+----+---------+------------+----------+------+------------+-----+------+---------------+\n",
      "|Chevrolet Chevell...|18.0|        8|       307.0|     130.0| 3504.|        12.0|   70|    US|si venga hombre|\n",
      "|   Buick Skylark 320|15.0|        8|       350.0|     165.0| 3693.|        11.5|   70|    US|si venga hombre|\n",
      "|  Plymouth Satellite|18.0|        8|       318.0|     150.0| 3436.|        11.0|   70|    US|si venga hombre|\n",
      "|       AMC Rebel SST|16.0|        8|       304.0|     150.0| 3433.|        12.0|   70|    US|si venga hombre|\n",
      "|         Ford Torino|17.0|        8|       302.0|     140.0| 3449.|        10.5|   70|    US|si venga hombre|\n",
      "|    Ford Galaxie 500|15.0|        8|       429.0|     198.0| 4341.|        10.0|   70|    US|si venga hombre|\n",
      "|    Chevrolet Impala|14.0|        8|       454.0|     220.0| 4354.|         9.0|   70|    US|si venga hombre|\n",
      "|   Plymouth Fury iii|14.0|        8|       440.0|     215.0| 4312.|         8.5|   70|    US|si venga hombre|\n",
      "|    Pontiac Catalina|14.0|        8|       455.0|     225.0| 4425.|        10.0|   70|    US|si venga hombre|\n",
      "|  AMC Ambassador DPL|15.0|        8|       390.0|     190.0| 3850.|         8.5|   70|    US|si venga hombre|\n",
      "|Chevrolet Chevell...|   0|        8|       350.0|     165.0| 4142.|        11.5|   70|    US|si venga hombre|\n",
      "|    Ford Torino (sw)|   0|        8|       351.0|     153.0| 4034.|        11.0|   70|    US|si venga hombre|\n",
      "|Plymouth Satellit...|   0|        8|       383.0|     175.0| 4166.|        10.5|   70|    US|si venga hombre|\n",
      "|  AMC Rebel SST (sw)|   0|        8|       360.0|     175.0| 3850.|        11.0|   70|    US|si venga hombre|\n",
      "| Dodge Challenger SE|15.0|        8|       383.0|     170.0| 3563.|        10.0|   70|    US|si venga hombre|\n",
      "|  Plymouth 'Cuda 340|14.0|        8|       340.0|     160.0| 3609.|         8.0|   70|    US|si venga hombre|\n",
      "|Ford Mustang Boss...|   0|        8|       302.0|     140.0| 3353.|         8.0|   70|    US|si venga hombre|\n",
      "|Chevrolet Monte C...|15.0|        8|       400.0|     150.0| 3761.|         9.5|   70|    US|si venga hombre|\n",
      "|Buick Estate Wago...|14.0|        8|       455.0|     225.0| 3086.|        10.0|   70|    US|si venga hombre|\n",
      "|     Plymouth Duster|22.0|        6|       198.0|     95.00| 2833.|        15.5|   70|    US|si venga hombre|\n",
      "+--------------------+----+---------+------------+----------+------+------------+-----+------+---------------+\n",
      "only showing top 20 rows\n",
      "\n"
     ]
    }
   ],
   "source": [
    "df.filter(col(\"Origin\")==\"US\").show()"
   ]
  },
  {
   "cell_type": "code",
   "execution_count": 54,
   "metadata": {},
   "outputs": [
    {
     "name": "stdout",
     "output_type": "stream",
     "text": [
      "+--------------------+----+---------+------------+----------+------+------------+-----+------+---------------+\n",
      "|                 Car| MPG|Cylinders|Displacement|Horsepower|Weight|Acceleration|Model|Origin|   Third_Column|\n",
      "+--------------------+----+---------+------------+----------+------+------------+-----+------+---------------+\n",
      "|  Plymouth Satellite|18.0|        8|       318.0|     150.0| 3436.|        11.0|   70|    US|si venga hombre|\n",
      "|       AMC Rebel SST|16.0|        8|       304.0|     150.0| 3433.|        12.0|   70|    US|si venga hombre|\n",
      "|Chevrolet Monte C...|15.0|        8|       400.0|     150.0| 3761.|         9.5|   70|    US|si venga hombre|\n",
      "|   Plymouth Fury iii|14.0|        8|       318.0|     150.0| 4096.|        13.0|   71|    US|si venga hombre|\n",
      "|   Plymouth Fury III|15.0|        8|       318.0|     150.0| 4135.|        13.5|   72|    US|si venga hombre|\n",
      "|  AMC Ambassador SST|17.0|        8|       304.0|     150.0| 3672.|        11.5|   72|    US|si venga hombre|\n",
      "|    AMC Matador (sw)|15.0|        8|       304.0|     150.0| 3892.|        12.5|   72|    US|si venga hombre|\n",
      "|Plymouth Satellit...|14.0|        8|       318.0|     150.0| 4077.|        14.0|   72|    US|si venga hombre|\n",
      "|         AMC Matador|14.0|        8|       304.0|     150.0| 3672.|        11.5|   73|    US|si venga hombre|\n",
      "|Dodge Coronet Custom|15.0|        8|       318.0|     150.0| 3777.|        12.5|   73|    US|si venga hombre|\n",
      "|Chevrolet Caprice...|13.0|        8|       400.0|     150.0| 4464.|        12.0|   73|    US|si venga hombre|\n",
      "|Plymouth Fury Gra...|14.0|        8|       318.0|     150.0| 4237.|        14.5|   73|    US|si venga hombre|\n",
      "|    Chevrolet Impala|11.0|        8|       400.0|     150.0| 4997.|        14.0|   73|    US|si venga hombre|\n",
      "|   Dodge Dart Custom|15.0|        8|       318.0|     150.0| 3399.|        11.0|   73|    US|si venga hombre|\n",
      "|Buick Century Lux...|13.0|        8|       350.0|     150.0| 4699.|        14.5|   74|    US|si venga hombre|\n",
      "|Dodge Coronet Cus...|14.0|        8|       318.0|     150.0| 4457.|        13.5|   74|    US|si venga hombre|\n",
      "|    AMC Matador (sw)|14.0|        8|       304.0|     150.0| 4257.|        15.5|   74|    US|si venga hombre|\n",
      "| Plymouth Grand Fury|16.0|        8|       318.0|     150.0| 4498.|        14.5|   75|    US|si venga hombre|\n",
      "|Dodge Coronet Bro...|16.0|        8|       318.0|     150.0| 4190.|        13.0|   76|    US|si venga hombre|\n",
      "|Plymouth Volare P...|13.0|        8|       318.0|     150.0| 3940.|        13.2|   76|    US|si venga hombre|\n",
      "+--------------------+----+---------+------------+----------+------+------------+-----+------+---------------+\n",
      "only showing top 20 rows\n",
      "\n"
     ]
    }
   ],
   "source": [
    "df.filter((df[\"Horsepower\"]==150.0) &(df[\"Origin\"]==\"US\")).show()"
   ]
  }
 ],
 "metadata": {
  "kernelspec": {
   "display_name": "Python 3",
   "language": "python",
   "name": "python3"
  },
  "language_info": {
   "codemirror_mode": {
    "name": "ipython",
    "version": 3
   },
   "file_extension": ".py",
   "mimetype": "text/x-python",
   "name": "python",
   "nbconvert_exporter": "python",
   "pygments_lexer": "ipython3",
   "version": "3.12.9"
  }
 },
 "nbformat": 4,
 "nbformat_minor": 2
}
